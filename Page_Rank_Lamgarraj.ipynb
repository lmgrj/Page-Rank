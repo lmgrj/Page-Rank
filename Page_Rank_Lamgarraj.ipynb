{
  "nbformat": 4,
  "nbformat_minor": 0,
  "metadata": {
    "colab": {
      "name": "Page_Rank_Lamgarraj.ipynb",
      "provenance": [],
      "toc_visible": true,
      "authorship_tag": "ABX9TyNsUbY4/CtVP6yIDIzkgT14",
      "include_colab_link": true
    },
    "kernelspec": {
      "name": "python3",
      "display_name": "Python 3"
    },
    "language_info": {
      "name": "python"
    }
  },
  "cells": [
    {
      "cell_type": "markdown",
      "metadata": {
        "id": "view-in-github",
        "colab_type": "text"
      },
      "source": [
        "<a href=\"https://colab.research.google.com/github/lmgrj/Page-Rank/blob/main/Page_Rank_Lamgarraj.ipynb\" target=\"_parent\"><img src=\"https://colab.research.google.com/assets/colab-badge.svg\" alt=\"Open In Colab\"/></a>"
      ]
    },
    {
      "cell_type": "markdown",
      "source": [
        "<center><h1>Master Informatique Specialités EID2 (DD avec WISD)</h1></center>\n",
        "\n",
        "\n",
        "---\n",
        "\n",
        "\n",
        "<center><h2>Web Mining</h2></center>\n",
        "\n",
        "\n",
        "---\n",
        "<center><h2>Page Rank</h2></center>\n",
        "\n",
        "\n",
        "---\n",
        "<center><h2>By : Lamgarraj Mohamed</h2></center>\n",
        "\n"
      ],
      "metadata": {
        "id": "41yZJ260fxEc"
      }
    },
    {
      "cell_type": "code",
      "execution_count": null,
      "metadata": {
        "colab": {
          "base_uri": "https://localhost:8080/"
        },
        "id": "C4TxxdRffHnV",
        "outputId": "d87e104c-3fcf-45c0-f51c-49e91373e84c"
      },
      "outputs": [
        {
          "output_type": "stream",
          "name": "stdout",
          "text": [
            "Mounted at /content/drive\n"
          ]
        }
      ],
      "source": [
        "from google.colab import drive\n",
        "drive.mount('/content/drive')"
      ]
    },
    {
      "cell_type": "markdown",
      "source": [
        " **chemin de fichier graph.xml**"
      ],
      "metadata": {
        "id": "xEDPAaZDnzWu"
      }
    },
    {
      "cell_type": "code",
      "source": [
        "fil = \"/content/drive/MyDrive/WeBMining/graph.xml\""
      ],
      "metadata": {
        "id": "W0iBwTnjgPbI"
      },
      "execution_count": null,
      "outputs": []
    },
    {
      "cell_type": "markdown",
      "source": [
        "La classe pour lire le fichier XML,construire un liste des noudes et des relations , et calculer le page rank"
      ],
      "metadata": {
        "id": "4178DQ72LCgc"
      }
    },
    {
      "cell_type": "code",
      "execution_count": null,
      "metadata": {
        "id": "k5jJYTQHgr4b"
      },
      "outputs": [],
      "source": [
        "import numpy as np\n",
        "from xml.dom import minidom\n",
        "\n",
        "class PageRank():\n",
        "    def __init__(self, path):\n",
        "        graphml = minidom.parse(path)\n",
        "        self.__nodes = [node.attributes['id'].value for node in graphml.getElementsByTagName('node')]\n",
        "        self.__edges = [(edge.attributes['source'].value, edge.attributes['target'].value) \n",
        "                        for edge in graphml.getElementsByTagName('edge')]\n",
        "        self.__pagerank = np.zeros(len(self.__nodes))\n",
        "       \n",
        "    def AMatrix(self):\n",
        "        \"\"\"\n",
        "        This function calculates this adjacency matrix, A, of a graph.\n",
        "        @return A\n",
        "        \"\"\"\n",
        "        A = []\n",
        "        for node in self.__nodes:\n",
        "            A.append([1 if (node, n) in self.__edges else 0 for n in self.__nodes])\n",
        "        return np.array(A)\n",
        "        \n",
        "    def getpagerank(self, e = 0.85, eps = 0.001):\n",
        "        \"\"\"\n",
        "        Calculating of probabilities matrix P and the PageRank(PR) of the nodes(pages)\n",
        "        @parameters:\n",
        "            e:   is the probability of the random surfer clicks on one of the hyperlinks (equals 0.85 by default)\n",
        "            eps: The stopping condition that equals 0.001 by default\n",
        "        @return [] (last vector in the R matrix witch containes the PR of each node)\n",
        "        \"\"\"\n",
        "        A = self.AMatrix()\n",
        "        N = len(A)\n",
        "        P = []\n",
        "        for a in A:\n",
        "            if sum(a) == 0: P.append([1/N for i in A])\n",
        "            else: P.append([e*i/sum(a) + ((1-e)/N) for i in a])\n",
        "        P = np.array(P)\n",
        "\n",
        "        R = np.array([[1/N for a in A]])\n",
        "        l = 0\n",
        "        while True:\n",
        "            R = np.append(R, [R[l].dot(P)], axis=0)\n",
        "            l += 1\n",
        "            if np.linalg.norm(R[l] - R[l-1]) <= eps:\n",
        "                break\n",
        "        self.__pagerank = R[l]\n",
        "        return R[l]\n",
        "    \n",
        "    def getall(self):\n",
        "        \"\"\"\n",
        "        This function return a list of tuples that containes, for each one, the node (the page) and his rank percent\n",
        "        \"\"\"\n",
        "        return [(n, round(r*100, 2)) for n,r in zip(self.__nodes, self.__pagerank)]"
      ]
    },
    {
      "cell_type": "markdown",
      "source": [
        "construire une liste des points de départ et points d'arriver "
      ],
      "metadata": {
        "id": "0OHTLi8nLzqy"
      }
    },
    {
      "cell_type": "code",
      "source": [
        "def getg(path):\n",
        "        graphml = minidom.parse(path)\n",
        "        nodes = [node.attributes['id'].value for node in graphml.getElementsByTagName('node')]\n",
        "        edges = [(edge.attributes['source'].value, edge.attributes['target'].value) \n",
        "                        for edge in graphml.getElementsByTagName('edge')]\n",
        "        return edges\n"
      ],
      "metadata": {
        "id": "zn5hDaUuFPiw"
      },
      "execution_count": null,
      "outputs": []
    },
    {
      "cell_type": "code",
      "source": [
        "Gr=getg(fil)"
      ],
      "metadata": {
        "id": "QHlrc6zgFq9-"
      },
      "execution_count": null,
      "outputs": []
    },
    {
      "cell_type": "code",
      "source": [
        "Gr"
      ],
      "metadata": {
        "colab": {
          "base_uri": "https://localhost:8080/"
        },
        "id": "3IweYhezGI5J",
        "outputId": "22cd1404-cc8e-4469-a20a-ae49444082f1"
      },
      "execution_count": null,
      "outputs": [
        {
          "output_type": "execute_result",
          "data": {
            "text/plain": [
              "[('P1', 'p5'),\n",
              " ('P2', 'P5'),\n",
              " ('P3', 'P5'),\n",
              " ('P4', 'P5'),\n",
              " ('P12', 'P5'),\n",
              " ('P6', 'P5'),\n",
              " ('P7', 'P5'),\n",
              " ('P8', 'P5'),\n",
              " ('P9', 'P12'),\n",
              " ('P10', 'P12'),\n",
              " ('P13', 'P12'),\n",
              " ('P14', 'P12'),\n",
              " ('P17', 'P12'),\n",
              " ('P18', 'P12'),\n",
              " ('P20', 'P15'),\n",
              " ('P1', 'P15'),\n",
              " ('P2', 'P15'),\n",
              " ('P5', 'P15'),\n",
              " ('P10', 'P1'),\n",
              " ('P6', 'P1'),\n",
              " ('P7', 'P3'),\n",
              " ('P8', 'P16'),\n",
              " ('P9', 'P16'),\n",
              " ('P10', 'P16'),\n",
              " ('P11', 'P16'),\n",
              " ('P12', 'P2'),\n",
              " ('P13', 'P2'),\n",
              " ('P14', 'P2'),\n",
              " ('P15', 'P8'),\n",
              " ('P16', 'P8'),\n",
              " ('P18', 'P17'),\n",
              " ('P19', 'P17'),\n",
              " ('P20', 'P17'),\n",
              " ('P1', 'P17'),\n",
              " ('P2', 'P17'),\n",
              " ('P3', 'P19'),\n",
              " ('P4', 'P19'),\n",
              " ('P5', 'P19'),\n",
              " ('P6', 'P19'),\n",
              " ('P7', 'P10'),\n",
              " ('P8', 'P10')]"
            ]
          },
          "metadata": {},
          "execution_count": 11
        }
      ]
    },
    {
      "cell_type": "markdown",
      "source": [
        "Visualiser le graphe "
      ],
      "metadata": {
        "id": "wSOrOi16MAbC"
      }
    },
    {
      "cell_type": "code",
      "source": [
        "import networkx as nx\n",
        "import numpy as np\n",
        "import matplotlib.pyplot as plt\n",
        "\n",
        "G = nx.Graph()\n",
        "G.add_edges_from(Gr)\n",
        "\n",
        "\n",
        "options = {\n",
        "    'node_color': 'white',\n",
        "    'node_size': 100,\n",
        "    'width': 2,\n",
        "    'arrowstyle': '-|>',\n",
        "    'arrowsize': 12,\n",
        "}\n",
        "\n",
        "nx.draw_networkx(G, arrows=True, **options)\n",
        "plt.show()"
      ],
      "metadata": {
        "colab": {
          "base_uri": "https://localhost:8080/",
          "height": 248
        },
        "id": "q1vtJKBYYylQ",
        "outputId": "87160fb0-4c7a-42d4-fce0-7c15717c18c0"
      },
      "execution_count": null,
      "outputs": [
        {
          "output_type": "display_data",
          "data": {
            "image/png": "[encoded data removed]",
            "text/plain": [
              "<Figure size 432x288 with 1 Axes>"
            ]
          },
          "metadata": {}
        }
      ]
    },
    {
      "cell_type": "markdown",
      "source": [
        "calculer le page rank pour tout les 20 pages"
      ],
      "metadata": {
        "id": "GJc01Jxal5z6"
      }
    },
    {
      "cell_type": "code",
      "execution_count": null,
      "metadata": {
        "id": "5isHKqMQgr4n",
        "outputId": "1391b3fa-f900-4a3d-dcd7-fd0b645ae7c8",
        "colab": {
          "base_uri": "https://localhost:8080/"
        }
      },
      "outputs": [
        {
          "output_type": "stream",
          "name": "stdout",
          "text": [
            "[0.0249473  0.06778751 0.009625   0.0075     0.13632784 0.0075\n",
            " 0.0075     0.15617056 0.0075     0.05381952 0.0075     0.12678869\n",
            " 0.0075     0.0075     0.09844587 0.07657932 0.10708486 0.0075\n",
            " 0.07492353 0.0075    ]\n",
            "\n",
            "[('P1', 2.49), ('P2', 6.78), ('P3', 0.96), ('P4', 0.75), ('P5', 13.63), ('P6', 0.75), ('P7', 0.75), ('P8', 15.62), ('P9', 0.75), ('P10', 5.38), ('P11', 0.75), ('P12', 12.68), ('P13', 0.75), ('P14', 0.75), ('P15', 9.84), ('P16', 7.66), ('P17', 10.71), ('P18', 0.75), ('P19', 7.49), ('P20', 0.75)]\n"
          ]
        }
      ],
      "source": [
        "pr= PageRank(fil)\n",
        "pagerank = pr.getpagerank(e = 0.85, eps = 0.001)\n",
        "print(pagerank)\n",
        "print()\n",
        "print(pr.getall())"
      ]
    },
    {
      "cell_type": "markdown",
      "source": [
        ""
      ],
      "metadata": {
        "id": "kLQSd78AMLeg"
      }
    },
    {
      "cell_type": "code",
      "execution_count": null,
      "metadata": {
        "id": "kCGwvEdtgr4p",
        "outputId": "054a0c51-f7c9-4a37-c4a7-007e5d5bf181",
        "colab": {
          "base_uri": "https://localhost:8080/"
        }
      },
      "outputs": [
        {
          "output_type": "stream",
          "name": "stdout",
          "text": [
            "+-------+--------------+\n",
            "| Nodes | Rank percent |\n",
            "+-------+--------------+\n",
            "|   P1  |    2.49 %    |\n",
            "|   P2  |    6.78 %    |\n",
            "|   P3  |    0.96 %    |\n",
            "|   P4  |    0.75 %    |\n",
            "|   P5  |   13.63 %    |\n",
            "|   P6  |    0.75 %    |\n",
            "|   P7  |    0.75 %    |\n",
            "|   P8  |   15.62 %    |\n",
            "|   P9  |    0.75 %    |\n",
            "|  P10  |    5.38 %    |\n",
            "|  P11  |    0.75 %    |\n",
            "|  P12  |   12.68 %    |\n",
            "|  P13  |    0.75 %    |\n",
            "|  P14  |    0.75 %    |\n",
            "|  P15  |    9.84 %    |\n",
            "|  P16  |    7.66 %    |\n",
            "|  P17  |   10.71 %    |\n",
            "|  P18  |    0.75 %    |\n",
            "|  P19  |    7.49 %    |\n",
            "|  P20  |    0.75 %    |\n",
            "+-------+--------------+\n"
          ]
        }
      ],
      "source": [
        "from prettytable import PrettyTable\n",
        "\n",
        "pt = PrettyTable()\n",
        "pt.field_names = ['Nodes','Rank percent']\n",
        "for item in sorted(pr.getall()): pt.add_row([item[0], f\"{item[1]} %\"])\n",
        "print(pt)"
      ]
    },
    {
      "cell_type": "markdown",
      "source": [
        "transphormer les résultats en pandads dataframe pour la visualisation"
      ],
      "metadata": {
        "id": "vEyFYcosR-Gg"
      }
    },
    {
      "cell_type": "code",
      "source": [
        "import pandas as pd\n",
        "x=pd.DataFrame(pr.getall())\n",
        "sorted(x[1],reverse=True)"
      ],
      "metadata": {
        "colab": {
          "base_uri": "https://localhost:8080/"
        },
        "id": "NoEE9bAMq0FM",
        "outputId": "c39fcadd-3054-4fe2-a4c2-bff82559054d"
      },
      "execution_count": null,
      "outputs": [
        {
          "output_type": "execute_result",
          "data": {
            "text/plain": [
              "[15.62,\n",
              " 13.63,\n",
              " 12.68,\n",
              " 10.71,\n",
              " 9.84,\n",
              " 7.66,\n",
              " 7.49,\n",
              " 6.78,\n",
              " 5.38,\n",
              " 2.49,\n",
              " 0.96,\n",
              " 0.75,\n",
              " 0.75,\n",
              " 0.75,\n",
              " 0.75,\n",
              " 0.75,\n",
              " 0.75,\n",
              " 0.75,\n",
              " 0.75,\n",
              " 0.75]"
            ]
          },
          "metadata": {},
          "execution_count": 24
        }
      ]
    },
    {
      "cell_type": "markdown",
      "source": [
        "visualiser les pages rank : les y = page rank , les x= les pages web"
      ],
      "metadata": {
        "id": "fvedFpQdSJM1"
      }
    },
    {
      "cell_type": "code",
      "source": [
        "import matplotlib.pyplot as plt\n",
        "\n",
        "\n",
        "plt.bar(x[0],np.absolute(x[1]))\n",
        "plt.show()"
      ],
      "metadata": {
        "colab": {
          "base_uri": "https://localhost:8080/",
          "height": 265
        },
        "id": "m0qnSOaSuHNQ",
        "outputId": "1619aa8d-5ff9-4620-8d54-eeb6cb0e5557"
      },
      "execution_count": null,
      "outputs": [
        {
          "output_type": "display_data",
          "data": {
            "image/png": "[encoded data removed]",
            "text/plain": [
              "<Figure size 432x288 with 1 Axes>"
            ]
          },
          "metadata": {
            "needs_background": "light"
          }
        }
      ]
    },
    {
      "cell_type": "markdown",
      "source": [
        "<h3> LAMGARRAJ Mohamed</h3>\n",
        "\n",
        "---\n",
        "\n",
        "\n",
        "USMBA_FSDM_FES ---> Master: Web Intelligence and Data Science(WISD)\n",
        "\n",
        "\n",
        "\n",
        "---\n",
        "\n",
        "\n",
        "\n",
        "USPN_Paris ---> Master: Exploration Informatique des Données et Décisionnel(EID2)\n",
        "\n",
        "\n",
        "\n",
        "---\n",
        "\n",
        "\n",
        "\n",
        "linkedin: https://www.linkedin.com/in/mohamed-lamgarraj-61b3341a3/\n",
        "\n",
        "kaggle: https://www.kaggle.com/mohamedlamgarraj\n",
        "\n",
        "github: https://github.com/lmgrj"
      ],
      "metadata": {
        "id": "_yNIki_5--3y"
      }
    }
  ]
}